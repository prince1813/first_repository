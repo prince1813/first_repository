{
 "cells": [
  {
   "cell_type": "code",
   "execution_count": 6,
   "metadata": {},
   "outputs": [
    {
     "name": "stdout",
     "output_type": "stream",
     "text": [
      "2 is equal to 2\n"
     ]
    }
   ],
   "source": [
    "if 2<3:\n",
    "    if 2==2:\n",
    "        print(\"2 is equal to 2\")\n",
    "    else:\n",
    "        print(\"2 is not equal to 2\")\n",
    "else:\n",
    "    if 3==3:\n",
    "        print(\"3 is equal to 3\")\n",
    "    else:\n",
    "        print(\"3 is not equal to 3\")"
   ]
  },
  {
   "cell_type": "code",
   "execution_count": 7,
   "metadata": {},
   "outputs": [
    {
     "name": "stdout",
     "output_type": "stream",
     "text": [
      "3 is equal to 3\n"
     ]
    }
   ],
   "source": [
    "if 2>3:\n",
    "    if 2==2:\n",
    "        print(\"2 is equal to 2\")\n",
    "    else:\n",
    "        print(\"2 is not equal to 2\")\n",
    "else:\n",
    "    if 3==3:\n",
    "        print(\"3 is equal to 3\")\n",
    "    else:\n",
    "        print(\"3 is not equal to 3\")"
   ]
  },
  {
   "cell_type": "code",
   "execution_count": 8,
   "metadata": {},
   "outputs": [
    {
     "name": "stdout",
     "output_type": "stream",
     "text": [
      "2 is not equal to 2\n"
     ]
    }
   ],
   "source": [
    "if 2<3:\n",
    "    if 2!=2:\n",
    "        print(\"2 is equal to 2\")\n",
    "    else:\n",
    "        print(\"2 is not equal to 2\")\n",
    "else:\n",
    "    if 3==3:\n",
    "        print(\"3 is equal to 3\")\n",
    "    else:\n",
    "        print(\"3 is not equal to 3\")"
   ]
  },
  {
   "cell_type": "code",
   "execution_count": 9,
   "metadata": {},
   "outputs": [
    {
     "name": "stdout",
     "output_type": "stream",
     "text": [
      "3 is not equal to 3\n"
     ]
    }
   ],
   "source": [
    "if 2>3:\n",
    "    if 2==2:\n",
    "        print(\"2 is equal to 2\")\n",
    "    else:\n",
    "        print(\"2 is not equal to 2\")\n",
    "else:\n",
    "    if 3!=3:\n",
    "        print(\"3 is equal to 3\")\n",
    "    else:\n",
    "        print(\"3 is not equal to 3\")"
   ]
  },
  {
   "cell_type": "code",
   "execution_count": 13,
   "metadata": {},
   "outputs": [
    {
     "name": "stdout",
     "output_type": "stream",
     "text": [
      "2 is not equal to 2\n"
     ]
    }
   ],
   "source": [
    "print(\"2 is equal to 2\" if 2!=2 else \"2 is not equal to 2\" if 2>3 else \"3 is equal to 3\" if 3==3 else \"3 is not equal to 3\")"
   ]
  }
 ],
 "metadata": {
  "kernelspec": {
   "display_name": "Python 3",
   "language": "python",
   "name": "python3"
  },
  "language_info": {
   "codemirror_mode": {
    "name": "ipython",
    "version": 3
   },
   "file_extension": ".py",
   "mimetype": "text/x-python",
   "name": "python",
   "nbconvert_exporter": "python",
   "pygments_lexer": "ipython3",
   "version": "3.11.4"
  },
  "orig_nbformat": 4
 },
 "nbformat": 4,
 "nbformat_minor": 2
}
