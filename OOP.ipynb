{
 "cells": [
  {
   "cell_type": "code",
   "execution_count": 1,
   "metadata": {},
   "outputs": [],
   "source": [
    "class TajMahal:    #blueprint\n",
    "    #attribute\n",
    "    def __init__(self):   #constructor of class--> it run itself, when we create a object\n",
    "        self.stone=\"white stone\"\n",
    "        self.height=400\n",
    "        self.width=400\n",
    "        self.location=\"near river\"\n",
    "        self.innercore=\"wood\"\n",
    "        print(\"this is constructor\")\n",
    "       \n",
    "    #feature\n",
    "    def tourist_place(self):\n",
    "        print(\"Tourists can visit\")\n",
    "    \n",
    "    def CISF_protection(self):\n",
    "        print(\"protection provided by CISF\")"
   ]
  },
  {
   "cell_type": "code",
   "execution_count": 5,
   "metadata": {},
   "outputs": [
    {
     "name": "stdout",
     "output_type": "stream",
     "text": [
      "this is constructor\n",
      "2147099094544\n",
      "400\n"
     ]
    }
   ],
   "source": [
    "dubai=TajMahal()\n",
    "print(dubai.height)"
   ]
  },
  {
   "cell_type": "code",
   "execution_count": null,
   "metadata": {},
   "outputs": [],
   "source": []
  }
 ],
 "metadata": {
  "kernelspec": {
   "display_name": "Python 3",
   "language": "python",
   "name": "python3"
  },
  "language_info": {
   "codemirror_mode": {
    "name": "ipython",
    "version": 3
   },
   "file_extension": ".py",
   "mimetype": "text/x-python",
   "name": "python",
   "nbconvert_exporter": "python",
   "pygments_lexer": "ipython3",
   "version": "3.11.4"
  },
  "orig_nbformat": 4
 },
 "nbformat": 4,
 "nbformat_minor": 2
}
