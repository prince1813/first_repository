{
 "cells": [
  {
   "cell_type": "code",
   "execution_count": 7,
   "metadata": {},
   "outputs": [
    {
     "name": "stdout",
     "output_type": "stream",
     "text": [
      "1. hello universe\n",
      "2. hello universe\n",
      "3. hello universe\n",
      "4. hello universe\n",
      "5. hello universe\n"
     ]
    }
   ],
   "source": [
    "i=1\n",
    "while i<6:\n",
    "    print(i,\" hello universe\", sep=\".\")\n",
    "    i=i+1"
   ]
  },
  {
   "cell_type": "code",
   "execution_count": 2,
   "metadata": {},
   "outputs": [
    {
     "name": "stdout",
     "output_type": "stream",
     "text": [
      "1. hello universe\n",
      "2. hello universe\n",
      "4. hello universe\n",
      "5. hello universe\n"
     ]
    }
   ],
   "source": [
    "i=1\n",
    "while i<6:\n",
    "    if i==3:\n",
    "        i=i+1\n",
    "        continue\n",
    "    print(i,\" hello universe\", sep=\".\")\n",
    "    i=i+1"
   ]
  },
  {
   "cell_type": "code",
   "execution_count": 3,
   "metadata": {},
   "outputs": [
    {
     "name": "stdout",
     "output_type": "stream",
     "text": [
      "1 hello world\n",
      "2 hello world\n",
      "3 is not printed\n",
      "4 hello world\n",
      "5 hello world\n"
     ]
    }
   ],
   "source": [
    "a=1\n",
    "while a<6:\n",
    "    if a==3:\n",
    "        print(\"3 is not printed\")\n",
    "        a=a+1\n",
    "        continue\n",
    "    print(a, \"hello world\")\n",
    "    a=a+1"
   ]
  },
  {
   "cell_type": "code",
   "execution_count": 5,
   "metadata": {},
   "outputs": [
    {
     "name": "stdout",
     "output_type": "stream",
     "text": [
      "2 * 1 = 2\n",
      "2 * 2 = 4\n",
      "2 * 3 = 6\n",
      "2 * 4 = 8\n",
      "2 * 5 = 10\n",
      "2 * 6 = 12\n",
      "2 * 7 = 14\n",
      "2 * 8 = 16\n",
      "2 * 9 = 18\n",
      "2 * 10 = 20\n"
     ]
    }
   ],
   "source": [
    "a=1\n",
    "while a<=10:\n",
    "    print(\"2 *\",a,\"=\",2*a)\n",
    "    a=a+1\n"
   ]
  },
  {
   "cell_type": "code",
   "execution_count": 6,
   "metadata": {},
   "outputs": [
    {
     "name": "stdout",
     "output_type": "stream",
     "text": [
      "3 * 1 = 3\n",
      "3 * 2 = 6\n",
      "3 * 3 = 9\n",
      "3 * 4 = 12\n",
      "3 * 5 = 15\n",
      "3 * 6 = 18\n",
      "3 * 7 = 21\n",
      "3 * 8 = 24\n",
      "3 * 9 = 27\n",
      "3 * 10 = 30\n"
     ]
    }
   ],
   "source": [
    "a=1\n",
    "while a<=10:\n",
    "    print(\"3 *\",a,\"=\",3*a)\n",
    "    a=a+1"
   ]
  },
  {
   "cell_type": "code",
   "execution_count": 3,
   "metadata": {},
   "outputs": [
    {
     "name": "stdout",
     "output_type": "stream",
     "text": [
      "12689 * 1 = 12689\n",
      "12689 * 2 = 25378\n",
      "12689 * 3 = 38067\n",
      "12689 * 4 = 50756\n",
      "12689 * 5 = 63445\n",
      "12689 * 6 = 76134\n",
      "12689 * 7 = 88823\n",
      "12689 * 8 = 101512\n",
      "12689 * 9 = 114201\n",
      "12689 * 10 = 126890\n"
     ]
    }
   ],
   "source": [
    "a=int(input(\"Table of :\"))\n",
    "i=1\n",
    "while i<=10:\n",
    "    print(a,\"*\",i,\"=\",a*i)\n",
    "    i=i+1"
   ]
  },
  {
   "cell_type": "code",
   "execution_count": 1,
   "metadata": {},
   "outputs": [
    {
     "name": "stdout",
     "output_type": "stream",
     "text": [
      "0\n",
      "1\n",
      "2\n",
      "3\n",
      "4\n",
      "5\n",
      "6\n",
      "7\n",
      "8\n",
      "9\n"
     ]
    }
   ],
   "source": [
    "a=range(10)\n",
    "for i in a:\n",
    "    print(i)"
   ]
  },
  {
   "cell_type": "code",
   "execution_count": 5,
   "metadata": {},
   "outputs": [
    {
     "name": "stdout",
     "output_type": "stream",
     "text": [
      "0\n",
      "1\n",
      "2\n",
      "3\n",
      "4\n",
      "5\n",
      "6\n",
      "7\n",
      "8\n",
      "9\n"
     ]
    }
   ],
   "source": [
    "a=range(0,10,1)\n",
    "for i in a:\n",
    "    print(i)"
   ]
  },
  {
   "cell_type": "code",
   "execution_count": 6,
   "metadata": {},
   "outputs": [
    {
     "name": "stdout",
     "output_type": "stream",
     "text": [
      "2\n",
      "3\n",
      "4\n",
      "5\n",
      "6\n",
      "7\n",
      "8\n",
      "9\n"
     ]
    }
   ],
   "source": [
    "a=range(2,10,1)\n",
    "for i in a:\n",
    "    print(i)"
   ]
  },
  {
   "cell_type": "code",
   "execution_count": 9,
   "metadata": {},
   "outputs": [
    {
     "name": "stdout",
     "output_type": "stream",
     "text": [
      "10\n",
      "9\n",
      "8\n",
      "7\n",
      "6\n",
      "5\n",
      "4\n",
      "3\n",
      "2\n",
      "1\n"
     ]
    }
   ],
   "source": [
    "a=range(10,0,-1)\n",
    "for i in a:\n",
    "    print(i)"
   ]
  },
  {
   "cell_type": "code",
   "execution_count": 1,
   "metadata": {},
   "outputs": [
    {
     "name": "stdout",
     "output_type": "stream",
     "text": [
      "1 hello prince\n",
      "2 hello rishi\n",
      "3 hello tinku\n",
      "4 hello krishna\n",
      "5 hello radha\n",
      "6 hello shiv\n"
     ]
    }
   ],
   "source": [
    "a=[\"prince\",\"rishi\",\"tinku\",\"krishna\",\"radha\",\"shiv\"]\n",
    "for i in range(1,7):\n",
    "    print(i,\"hello\",a[i-1])"
   ]
  },
  {
   "cell_type": "code",
   "execution_count": 2,
   "metadata": {},
   "outputs": [
    {
     "name": "stdout",
     "output_type": "stream",
     "text": [
      "1 hello prince\n"
     ]
    }
   ],
   "source": [
    "#print only first letter of name\n",
    "\n",
    "i=1\n",
    "print(i,\"hello\",a[i-1])\n",
    "\n",
    "\n"
   ]
  },
  {
   "cell_type": "code",
   "execution_count": 3,
   "metadata": {},
   "outputs": [
    {
     "data": {
      "text/plain": [
       "'prince'"
      ]
     },
     "execution_count": 3,
     "metadata": {},
     "output_type": "execute_result"
    }
   ],
   "source": [
    "a[i-1]"
   ]
  },
  {
   "cell_type": "code",
   "execution_count": 4,
   "metadata": {},
   "outputs": [
    {
     "name": "stdout",
     "output_type": "stream",
     "text": [
      "p\n"
     ]
    }
   ],
   "source": [
    "b=a[i-1]\n",
    "print(b[0])"
   ]
  },
  {
   "cell_type": "code",
   "execution_count": 5,
   "metadata": {},
   "outputs": [
    {
     "name": "stdout",
     "output_type": "stream",
     "text": [
      "1 hello p\n",
      "2 hello r\n",
      "3 hello t\n",
      "4 hello k\n",
      "5 hello r\n",
      "6 hello s\n"
     ]
    }
   ],
   "source": [
    "a=[\"prince\",\"rishi\",\"tinku\",\"krishna\",\"radha\",\"shiv\"]\n",
    "for i in range(1,7):\n",
    "    print(i,\"hello\",a[i-1][0])"
   ]
  },
  {
   "cell_type": "code",
   "execution_count": 8,
   "metadata": {},
   "outputs": [
    {
     "name": "stdout",
     "output_type": "stream",
     "text": [
      "1 hello pr\n",
      "2 hello ri\n",
      "3 hello ti\n",
      "4 hello kr\n",
      "5 hello ra\n",
      "6 hello sh\n"
     ]
    }
   ],
   "source": [
    "a=[\"prince\",\"rishi\",\"tinku\",\"krishna\",\"radha\",\"shiv\"]\n",
    "for i in range(1,7):\n",
    "    print(i,\"hello\",a[i-1][0:2])"
   ]
  },
  {
   "cell_type": "code",
   "execution_count": 9,
   "metadata": {},
   "outputs": [
    {
     "name": "stdout",
     "output_type": "stream",
     "text": [
      "1 hello p e\n",
      "2 hello r i\n",
      "3 hello t u\n",
      "4 hello k a\n",
      "5 hello r a\n",
      "6 hello s v\n"
     ]
    }
   ],
   "source": [
    "a=[\"prince\",\"rishi\",\"tinku\",\"krishna\",\"radha\",\"shiv\"]\n",
    "for i in range(1,7):\n",
    "    print(i,\"hello\",a[i-1][0],a[i-1][-1])"
   ]
  },
  {
   "cell_type": "code",
   "execution_count": 13,
   "metadata": {},
   "outputs": [
    {
     "name": "stdout",
     "output_type": "stream",
     "text": [
      "1 hello pe\n",
      "2 hello ri\n",
      "3 hello tu\n",
      "4 hello ka\n",
      "5 hello ra\n",
      "6 hello sv\n"
     ]
    }
   ],
   "source": [
    "a=[\"prince\",\"rishi\",\"tinku\",\"krishna\",\"radha\",\"shiv\"]\n",
    "for i in range(1,7):\n",
    "    print(i,\"hello\",a[i-1][0]+a[i-1][-1])"
   ]
  },
  {
   "cell_type": "code",
   "execution_count": 15,
   "metadata": {},
   "outputs": [
    {
     "name": "stdout",
     "output_type": "stream",
     "text": [
      "1 pe olleh\n",
      "2 ri olleh\n",
      "3 tu olleh\n",
      "4 ka olleh\n",
      "5 ra olleh\n",
      "6 sv olleh\n"
     ]
    }
   ],
   "source": [
    "a=[\"prince\",\"rishi\",\"tinku\",\"krishna\",\"radha\",\"shiv\"]\n",
    "for i in range(1,7):\n",
    "    print(i,a[i-1][0]+a[i-1][-1],\"hello\"[-1::-1])"
   ]
  }
 ],
 "metadata": {
  "kernelspec": {
   "display_name": "Python 3",
   "language": "python",
   "name": "python3"
  },
  "language_info": {
   "codemirror_mode": {
    "name": "ipython",
    "version": 3
   },
   "file_extension": ".py",
   "mimetype": "text/x-python",
   "name": "python",
   "nbconvert_exporter": "python",
   "pygments_lexer": "ipython3",
   "version": "3.11.4"
  },
  "orig_nbformat": 4
 },
 "nbformat": 4,
 "nbformat_minor": 2
}
