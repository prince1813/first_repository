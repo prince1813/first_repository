{
 "cells": [
  {
   "cell_type": "code",
   "execution_count": null,
   "metadata": {},
   "outputs": [],
   "source": [
    "pip install mysql-connector"
   ]
  },
  {
   "cell_type": "code",
   "execution_count": 2,
   "metadata": {},
   "outputs": [],
   "source": [
    "import mysql.connector as sql"
   ]
  },
  {
   "cell_type": "code",
   "execution_count": 3,
   "metadata": {},
   "outputs": [],
   "source": [
    "db=sql.connect(host=\"localhost\",port=3306,user=\"root\",password=\"root\",database=\"mysql\")"
   ]
  },
  {
   "cell_type": "code",
   "execution_count": null,
   "metadata": {},
   "outputs": [],
   "source": [
    "# if error comes;\n",
    "\n",
    "# 1. Upgrade Your MySQL Connector: Make sure you are using a MySQL connector library that supports the \n",
    "# caching_sha2_password authentication plugin. If you are using an older version of the connector, \n",
    "# consider upgrading to a newer version.\n",
    "# For example, you can upgrade the mysql-connector-python library using pip:\n",
    "# pip install --upgrade mysql-connector-python\n",
    "\n",
    "# 2. Change the Authentication Method: If you have control over the MySQL server configuration, \n",
    "# you can change the authentication method for your MySQL user to use a method supported by your MySQL \n",
    "# client library. For example, you can change it to use the mysql_native_password authentication method.\n",
    "# You can do this by logging into MySQL as an administrator and running the following SQL query:\n",
    "# ALTER USER 'your_username'@'your_host' IDENTIFIED WITH 'mysql_native_password' BY 'your_password';\n",
    "# Be sure to replace 'your_username', 'your_host', and 'your_password' with your actual credentials."
   ]
  },
  {
   "cell_type": "code",
   "execution_count": 4,
   "metadata": {},
   "outputs": [],
   "source": [
    "cur=db.cursor()"
   ]
  },
  {
   "cell_type": "code",
   "execution_count": 5,
   "metadata": {},
   "outputs": [],
   "source": [
    "cur.execute(\"show tables\")"
   ]
  },
  {
   "cell_type": "code",
   "execution_count": 6,
   "metadata": {},
   "outputs": [
    {
     "name": "stdout",
     "output_type": "stream",
     "text": [
      "('columns_priv',)\n",
      "('component',)\n",
      "('db',)\n",
      "('default_roles',)\n",
      "('engine_cost',)\n",
      "('func',)\n",
      "('general_log',)\n",
      "('global_grants',)\n",
      "('gtid_executed',)\n",
      "('help_category',)\n",
      "('help_keyword',)\n",
      "('help_relation',)\n",
      "('help_topic',)\n",
      "('innodb_index_stats',)\n",
      "('innodb_table_stats',)\n",
      "('ndb_binlog_index',)\n",
      "('password_history',)\n",
      "('plugin',)\n",
      "('procs_priv',)\n",
      "('proxies_priv',)\n",
      "('replication_asynchronous_connection_failover',)\n",
      "('replication_asynchronous_connection_failover_managed',)\n",
      "('replication_group_configuration_version',)\n",
      "('replication_group_member_actions',)\n",
      "('role_edges',)\n",
      "('server_cost',)\n",
      "('servers',)\n",
      "('slave_master_info',)\n",
      "('slave_relay_log_info',)\n",
      "('slave_worker_info',)\n",
      "('slow_log',)\n",
      "('tables_priv',)\n",
      "('time_zone',)\n",
      "('time_zone_leap_second',)\n",
      "('time_zone_name',)\n",
      "('time_zone_transition',)\n",
      "('time_zone_transition_type',)\n",
      "('user',)\n"
     ]
    }
   ],
   "source": [
    "for i in cur:\n",
    "    print(i)"
   ]
  },
  {
   "cell_type": "code",
   "execution_count": null,
   "metadata": {},
   "outputs": [],
   "source": []
  }
 ],
 "metadata": {
  "kernelspec": {
   "display_name": "Python 3",
   "language": "python",
   "name": "python3"
  },
  "language_info": {
   "codemirror_mode": {
    "name": "ipython",
    "version": 3
   },
   "file_extension": ".py",
   "mimetype": "text/x-python",
   "name": "python",
   "nbconvert_exporter": "python",
   "pygments_lexer": "ipython3",
   "version": "3.11.4"
  },
  "orig_nbformat": 4
 },
 "nbformat": 4,
 "nbformat_minor": 2
}
